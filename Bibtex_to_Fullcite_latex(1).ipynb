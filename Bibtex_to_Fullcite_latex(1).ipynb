{
 "cells": [
  {
   "cell_type": "code",
   "execution_count": 58,
   "metadata": {},
   "outputs": [],
   "source": [
    "import bibtexparser\n",
    "import random\n",
    "import string\n",
    "#IMPORTATION MAN\n",
    "\n",
    "\n",
    "def randomString(stringLength=10):\n",
    "    \"\"\"Generate a random string of fixed length \"\"\"\n",
    "    letters = string.ascii_lowercase\n",
    "    return ''.join(random.choice(letters) for i in range(stringLength))\n",
    "#GENERER DES STRINGS ALEATOIRES\n",
    "\n",
    "with open('/Users/baptistasmokas/Desktop/Shiny_Project/1_extract/Kulback Liebler/bib.bib') as bibtex_file:\n",
    "    bib_database = bibtexparser.load(bibtex_file)\n",
    "#LECTURE DU FICHIER ORIGINEL\n",
    "    \n",
    "for item in bib_database.entries:\n",
    "    item['ID'] = item['ID'] + randomString(14)\n",
    "#MODIFICATION ALEATOIRE\n",
    "    \n",
    "with open('/Users/baptistasmokas/Desktop/Shiny_Project/1_extract/Kulback Liebler/bibtex_RANDOM.bib', 'w') as bibtex_file:\n",
    "    bibtexparser.dump(bib_database, bibtex_file)\n",
    "#EXPORT DU NOUVEAU BIBTEX\n",
    "\n",
    "\n",
    "with open('/Users/baptistasmokas/Desktop/Shiny_Project/1_extract/Kulback Liebler/bibtex_RANDOM.bib') as bibtex_file:\n",
    "    bib_database = bibtexparser.load(bibtex_file)\n",
    "#REIMPORT\n",
    "\n",
    "result = []\n",
    "for item in bib_database.entries:\n",
    "    item['ID'] = '\\\\wrapcolorbox[myel]{{\\\\footnotesize    \\\\fullcite{' + item['ID'] + '}}}'\n",
    "    result.append(item['ID'])\n",
    "#AJOUT DES ELEMENTS LATEX    \n",
    "    \n",
    "with open('/Users/baptistasmokas/Desktop/Shiny_Project/1_extract/Kulback Liebler/forlatex.txt', 'w') as f:\n",
    "    for i in result:\n",
    "        f.write(str(i) + '\\n')\n",
    "#EXPORT DU FICHIER LATEX        "
   ]
  },
  {
   "cell_type": "code",
   "execution_count": null,
   "metadata": {},
   "outputs": [],
   "source": []
  }
 ],
 "metadata": {
  "kernelspec": {
   "display_name": "Python 3",
   "language": "python",
   "name": "python3"
  },
  "language_info": {
   "codemirror_mode": {
    "name": "ipython",
    "version": 3
   },
   "file_extension": ".py",
   "mimetype": "text/x-python",
   "name": "python",
   "nbconvert_exporter": "python",
   "pygments_lexer": "ipython3",
   "version": "3.7.4"
  }
 },
 "nbformat": 4,
 "nbformat_minor": 2
}
